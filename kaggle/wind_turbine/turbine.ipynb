{
 "cells": [
  {
   "cell_type": "code",
   "execution_count": 1,
   "id": "0ecb61f1-9e8b-47ba-ab32-0285fbed6212",
   "metadata": {},
   "outputs": [],
   "source": [
    "import pandas as pd"
   ]
  },
  {
   "cell_type": "code",
   "execution_count": 2,
   "id": "039b5474-7f6f-4f45-bfb3-0b643587c285",
   "metadata": {},
   "outputs": [],
   "source": [
    "df = pd.read_csv('Turbine_Data.csv')"
   ]
  },
  {
   "cell_type": "code",
   "execution_count": 3,
   "id": "64c55496-e8fb-4f55-a6aa-2ef312e546d9",
   "metadata": {},
   "outputs": [
    {
     "data": {
      "text/plain": [
       "Index(['Unnamed: 0', 'ActivePower', 'AmbientTemperatue',\n",
       "       'BearingShaftTemperature', 'Blade1PitchAngle', 'Blade2PitchAngle',\n",
       "       'Blade3PitchAngle', 'ControlBoxTemperature',\n",
       "       'GearboxBearingTemperature', 'GearboxOilTemperature', 'GeneratorRPM',\n",
       "       'GeneratorWinding1Temperature', 'GeneratorWinding2Temperature',\n",
       "       'HubTemperature', 'MainBoxTemperature', 'NacellePosition',\n",
       "       'ReactivePower', 'RotorRPM', 'TurbineStatus', 'WTG', 'WindDirection',\n",
       "       'WindSpeed'],\n",
       "      dtype='object')"
      ]
     },
     "execution_count": 3,
     "metadata": {},
     "output_type": "execute_result"
    }
   ],
   "source": [
    "df.columns"
   ]
  },
  {
   "cell_type": "code",
   "execution_count": 4,
   "id": "b86539d1-6c7e-4dda-acec-1c0fb30a98f9",
   "metadata": {},
   "outputs": [],
   "source": [
    "target_col = 'ActivePower'"
   ]
  },
  {
   "cell_type": "code",
   "execution_count": 5,
   "id": "ddf4d955-ecf1-4d1c-b854-441eadd9d954",
   "metadata": {},
   "outputs": [],
   "source": [
    "df = df.rename({'AmbientTemperatue': 'AmbientTemperature', 'Unnamed: 0':'timestamp'}, axis=1)"
   ]
  },
  {
   "cell_type": "code",
   "execution_count": 6,
   "id": "3f327162-4323-4560-9366-e1adf642357a",
   "metadata": {},
   "outputs": [],
   "source": [
    "input_df = df.drop(['timestamp', 'WTG', 'ActivePower'], axis=1)"
   ]
  },
  {
   "cell_type": "code",
   "execution_count": 7,
   "id": "c0cd8ca7-9fc9-489b-8305-9e2f3b27cf96",
   "metadata": {},
   "outputs": [
    {
     "data": {
      "text/plain": [
       "Index(['AmbientTemperature', 'BearingShaftTemperature', 'Blade1PitchAngle',\n",
       "       'Blade2PitchAngle', 'Blade3PitchAngle', 'ControlBoxTemperature',\n",
       "       'GearboxBearingTemperature', 'GearboxOilTemperature', 'GeneratorRPM',\n",
       "       'GeneratorWinding1Temperature', 'GeneratorWinding2Temperature',\n",
       "       'HubTemperature', 'MainBoxTemperature', 'NacellePosition',\n",
       "       'ReactivePower', 'RotorRPM', 'TurbineStatus', 'WindDirection',\n",
       "       'WindSpeed'],\n",
       "      dtype='object')"
      ]
     },
     "execution_count": 7,
     "metadata": {},
     "output_type": "execute_result"
    }
   ],
   "source": [
    "input_df.columns"
   ]
  },
  {
   "cell_type": "code",
   "execution_count": 8,
   "id": "9cbfafdc-31cc-4a13-a428-ce1a60bee084",
   "metadata": {},
   "outputs": [],
   "source": [
    "prompt_template = 'Select the variables from the list that are most relevant for predicting <target_variable>. ' +\\\n",
    "                  'Provide the variables sorted starting with the one with the highest priority. ' +\\\n",
    "                  'All variables: <all_variables>\\n' + \\\n",
    "                  '```json\\n{\"reasoning\": \"<your reasoning>\", \"selected_variables\": [\"variable 1\", \"variable 2\", ..., \"variable n\"]}\\n```'"
   ]
  },
  {
   "cell_type": "code",
   "execution_count": 9,
   "id": "bdacbf64-01e2-491f-b8e3-f27cde943430",
   "metadata": {},
   "outputs": [
    {
     "name": "stdout",
     "output_type": "stream",
     "text": [
      "Select the variables from the list that are most relevant for predicting the wind power that could be generated from the windmill. Provide the variables sorted starting with the one with the highest priority. All variables: AmbientTemperature, BearingShaftTemperature, Blade1PitchAngle, Blade2PitchAngle, Blade3PitchAngle, ControlBoxTemperature, GearboxBearingTemperature, GearboxOilTemperature, GeneratorRPM, GeneratorWinding1Temperature, GeneratorWinding2Temperature, HubTemperature, MainBoxTemperature, NacellePosition, ReactivePower, RotorRPM, TurbineStatus, WindDirection, WindSpeed\n",
      "```json\n",
      "{\"reasoning\": \"<your reasoning>\", \"selected_variables\": [\"variable 1\", \"variable 2\", ..., \"variable n\"]}\n",
      "```\n"
     ]
    }
   ],
   "source": [
    "prompt = prompt_template.replace('<all_variables>', ', '.join(input_df.columns))\n",
    "prompt = prompt.replace('<target_variable>', 'the wind power that could be generated from the windmill')\n",
    "print(prompt)"
   ]
  },
  {
   "cell_type": "code",
   "execution_count": 10,
   "id": "2008bfea-0803-49ee-8dff-5cd1dc113751",
   "metadata": {},
   "outputs": [],
   "source": [
    "preds_chatgpt = {\n",
    "  \"reasoning\": \"To predict the wind power generated from a windmill, the most critical factor is the kinetic energy available in the wind, which is primarily determined by wind speed. Rotor RPM and Generator RPM are key mechanical outputs directly driven by wind energy and influence power generation. Blade pitch angles (Blade1PitchAngle, Blade2PitchAngle, Blade3PitchAngle) affect how effectively the wind's energy is captured. Wind direction is important for optimizing turbine alignment. ReactivePower can reflect electrical behavior but is secondary. Other temperatures (e.g., GeneratorWinding, GearboxOil) indicate operational conditions and potential losses but are less directly tied to power output. TurbineStatus and WTG are identifiers or states that might influence filtering but are not continuous predictors. ControlBoxTemperature, BearingShaftTemperature, and similar are more related to system health monitoring.\",\n",
    "  \"selected_variables\": [\n",
    "    \"WindSpeed\",\n",
    "    \"RotorRPM\",\n",
    "    \"GeneratorRPM\",\n",
    "    \"Blade1PitchAngle\",\n",
    "    \"Blade2PitchAngle\",\n",
    "    \"Blade3PitchAngle\",\n",
    "    \"WindDirection\",\n",
    "    \"ReactivePower\",\n",
    "    \"GeneratorWinding1Temperature\",\n",
    "    \"GeneratorWinding2Temperature\",\n",
    "    \"GearboxOilTemperature\",\n",
    "    \"GearboxBearingTemperature\",\n",
    "    \"HubTemperature\",\n",
    "    \"MainBoxTemperature\",\n",
    "    \"ControlBoxTemperature\",\n",
    "    \"BearingShaftTemperature\"\n",
    "  ]\n",
    "}"
   ]
  },
  {
   "cell_type": "code",
   "execution_count": 11,
   "id": "3856eafa-c36f-49d4-aff9-f97658af40e6",
   "metadata": {},
   "outputs": [],
   "source": [
    "df_all = input_df.copy()"
   ]
  },
  {
   "cell_type": "code",
   "execution_count": 12,
   "id": "e94d242a-7675-457b-a544-e5301f3028e9",
   "metadata": {},
   "outputs": [],
   "source": [
    "df_all['ActivePower'] = df[target_col].shift(1)"
   ]
  },
  {
   "cell_type": "code",
   "execution_count": 13,
   "id": "8ea8e0e0-3b66-4882-ad25-9f9a8938dfd6",
   "metadata": {},
   "outputs": [],
   "source": [
    "all_corrs = df_all.corr().abs()"
   ]
  },
  {
   "cell_type": "code",
   "execution_count": 16,
   "id": "22231334-219a-4e44-838a-5e02ab9c9126",
   "metadata": {},
   "outputs": [
    {
     "data": {
      "text/plain": [
       "ActivePower                     1.000000\n",
       "GeneratorWinding2Temperature    0.944020\n",
       "GeneratorWinding1Temperature    0.942895\n",
       "WindSpeed                       0.920194\n",
       "GeneratorRPM                    0.828287\n",
       "GearboxOilTemperature           0.828254\n",
       "RotorRPM                        0.827884\n",
       "GearboxBearingTemperature       0.807685\n",
       "ReactivePower                   0.699559\n",
       "BearingShaftTemperature         0.647259\n",
       "Blade1PitchAngle                0.359975\n",
       "Blade3PitchAngle                0.357485\n",
       "Blade2PitchAngle                0.357485\n",
       "HubTemperature                  0.335836\n",
       "MainBoxTemperature              0.089761\n",
       "AmbientTemperature              0.074715\n",
       "NacellePosition                 0.030422\n",
       "WindDirection                   0.030422\n",
       "TurbineStatus                   0.000612\n",
       "ControlBoxTemperature                NaN\n",
       "Name: ActivePower, dtype: float64"
      ]
     },
     "execution_count": 16,
     "metadata": {},
     "output_type": "execute_result"
    }
   ],
   "source": [
    "all_corrs['ActivePower'].sort_values(ascending=False)"
   ]
  },
  {
   "cell_type": "code",
   "execution_count": 43,
   "id": "dba5dc9f-8aa0-4d5d-a8af-0453043b0c76",
   "metadata": {},
   "outputs": [
    {
     "data": {
      "text/plain": [
       "[92.02, 82.79, 82.83, 36.0, 35.75]"
      ]
     },
     "execution_count": 43,
     "metadata": {},
     "output_type": "execute_result"
    }
   ],
   "source": [
    "[round(all_corrs['ActivePower'][pred] * 100, 2) for pred in preds_chatgpt['selected_variables'][:5]]"
   ]
  },
  {
   "cell_type": "code",
   "execution_count": null,
   "id": "0a9f58f7-3b78-4827-b7b2-8fe61a2f686a",
   "metadata": {},
   "outputs": [],
   "source": []
  }
 ],
 "metadata": {
  "kernelspec": {
   "display_name": "Python 3 (ipykernel)",
   "language": "python",
   "name": "python3"
  },
  "language_info": {
   "codemirror_mode": {
    "name": "ipython",
    "version": 3
   },
   "file_extension": ".py",
   "mimetype": "text/x-python",
   "name": "python",
   "nbconvert_exporter": "python",
   "pygments_lexer": "ipython3",
   "version": "3.10.4"
  }
 },
 "nbformat": 4,
 "nbformat_minor": 5
}
