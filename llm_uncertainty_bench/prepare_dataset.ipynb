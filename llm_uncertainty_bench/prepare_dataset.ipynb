{
 "cells": [
  {
   "cell_type": "code",
   "execution_count": 6,
   "id": "d01a4be2-26e8-447f-b297-86c41f63e11f",
   "metadata": {},
   "outputs": [],
   "source": [
    "import pandas as pd\n",
    "import copy\n",
    "import json"
   ]
  },
  {
   "cell_type": "code",
   "execution_count": 7,
   "id": "b0c28c02-9c8e-4ebc-9068-d74ae5037d74",
   "metadata": {},
   "outputs": [],
   "source": [
    "record_template = {\n",
    "    \"source\": \"MMLU\",\n",
    "    \"task\": \"QA\",\n",
    "    \"subject\": \"miscellaneous\",\n",
    "    \"subcategory\": \"other\",\n",
    "    \"supcategory\": \"other (business, health, misc.)\",\n",
    "    \"question\": \"Where is the Louvre museum?\",\n",
    "    \"choices\": {\n",
    "      \"A\": \"Paris\",\n",
    "      \"B\": \"Lyon\",\n",
    "      \"C\": \"Geneva\",\n",
    "      \"D\": \"Vichy\",\n",
    "      \"E\": \"I don't know\",\n",
    "      \"F\": \"None of the above\"\n",
    "    },\n",
    "    \"answer\": \"A\",\n",
    "    \"id\": 0\n",
    "}"
   ]
  },
  {
   "cell_type": "code",
   "execution_count": 8,
   "id": "f79351a0-560e-4e84-b830-58896bf018ee",
   "metadata": {},
   "outputs": [],
   "source": [
    "df = pd.read_json('data/fmsr_filtered_data_all.jsonl', lines=True)"
   ]
  },
  {
   "cell_type": "code",
   "execution_count": 9,
   "id": "20579e50-576e-458b-a65d-c6a4d18354dc",
   "metadata": {},
   "outputs": [],
   "source": [
    "all_records = []\n",
    "for _, row in df.iterrows():\n",
    "    record = copy.deepcopy(record_template)\n",
    "    record['question'] = row['question']\n",
    "    record['source'] = 'FMSR'\n",
    "    record['supcategory'] = 'industrial'\n",
    "    record['choices'] = {option_id: option for option_id, option in zip(row['option_ids'], row['options'])}\n",
    "    record['answer'] = chr(ord('A') + row['correct'].index(True))\n",
    "    record['id'] = row['id']\n",
    "    record['asset_name'] = row['asset_name']\n",
    "    all_records.append(record)"
   ]
  },
  {
   "cell_type": "code",
   "execution_count": 10,
   "id": "2277e92c-473d-4b34-bd21-c45e8caa5db7",
   "metadata": {},
   "outputs": [],
   "source": [
    "with open('data/fmsr.json', 'w') as f:\n",
    "    f.write(json.dumps(all_records, indent=4))"
   ]
  },
  {
   "cell_type": "code",
   "execution_count": null,
   "id": "63a3dfab-4531-41ea-b645-77fc2d6ebc74",
   "metadata": {},
   "outputs": [],
   "source": []
  }
 ],
 "metadata": {
  "kernelspec": {
   "display_name": "Python 3 (ipykernel)",
   "language": "python",
   "name": "python3"
  },
  "language_info": {
   "codemirror_mode": {
    "name": "ipython",
    "version": 3
   },
   "file_extension": ".py",
   "mimetype": "text/x-python",
   "name": "python",
   "nbconvert_exporter": "python",
   "pygments_lexer": "ipython3",
   "version": "3.10.4"
  }
 },
 "nbformat": 4,
 "nbformat_minor": 5
}
