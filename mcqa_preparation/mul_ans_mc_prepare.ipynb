{
 "cells": [
  {
   "cell_type": "code",
   "execution_count": 1,
   "metadata": {},
   "outputs": [],
   "source": [
    "import random\n",
    "from dataclasses import dataclass\n",
    "from itertools import permutations\n",
    "import json\n",
    "import numpy as np"
   ]
  },
  {
   "cell_type": "code",
   "execution_count": 2,
   "metadata": {},
   "outputs": [],
   "source": [
    "random.seed(42)"
   ]
  },
  {
   "cell_type": "code",
   "execution_count": 3,
   "metadata": {},
   "outputs": [],
   "source": [
    "max_n_choices = 5"
   ]
  },
  {
   "cell_type": "code",
   "execution_count": 4,
   "metadata": {},
   "outputs": [],
   "source": [
    "def idx_to_ltr(idx):\n",
    "    return chr(idx + ord(\"A\"))\n",
    "\n",
    "@dataclass\n",
    "class QuestionPart:\n",
    "    text: str\n",
    "    tag: str = None\n",
    "\n",
    "    def __str__(self):\n",
    "        if self.tag is not None:\n",
    "            return f\"{self.tag}: {self.text}\"\n",
    "        else:\n",
    "            return self.text\n",
    "\n",
    "@dataclass\n",
    "class Question:\n",
    "    parts: list\n",
    "    choices: list\n",
    "    answer_idx: int\n",
    "    task: str = None\n",
    "\n",
    "    def get_n_choices(self):\n",
    "        return len(self.choices)\n",
    "\n",
    "    def get_answer_str(self):\n",
    "        if type(self.answer_idx) != int:\n",
    "            return ','.join([self.choices[idx] for idx in self.answer_idx])\n",
    "        return self.choices[self.answer_idx]\n",
    "\n",
    "    def _get_prompt(self, include_choices):\n",
    "        prompt = \"\"\n",
    "        for part in self.parts:\n",
    "            prompt += f\"{str(part)}\\n\"\n",
    "        if include_choices:\n",
    "            for i, choice in enumerate(self.choices):\n",
    "                prompt += f\"{idx_to_ltr(i)}. {choice}\\n\"\n",
    "        return prompt + \"\\nAnswer:\"\n",
    "    \n",
    "    def _get_new_prompt(self, include_choices):\n",
    "        prompt = \"\"\n",
    "        for part in self.parts:\n",
    "            prompt += f\"{str(part)}\\n\"\n",
    "        if include_choices:\n",
    "            options = []\n",
    "            for i, choice in enumerate(self.choices):\n",
    "                prompt += f\"{idx_to_ltr(i)}. {choice}\\n\"\n",
    "                options.append(idx_to_ltr(i))\n",
    "            prompt += \"Choose one of the following: \"+','.join(options) + '\\n'\n",
    "        return prompt + \"Answer:\"\n",
    "\n",
    "    def get_natural_prompt(self):\n",
    "        return self._get_prompt(include_choices=True)\n",
    "        # return self._get_prompt(include_choices=True)\n",
    "\n",
    "    def get_brown_prompt(self):\n",
    "        return self._get_prompt(include_choices=False)\n",
    "\n",
    "    def strong_shuffle(self):\n",
    "        if len(set(self.choices)) == 1:\n",
    "            return\n",
    "\n",
    "        answer_idx = self.answer_idx\n",
    "        answer_str = self.get_answer_str()\n",
    "        while self.choices[answer_idx] == answer_str:\n",
    "            random.shuffle(self.choices)\n",
    "            self.answer_idx = self.choices.index(answer_str)\n",
    "\n",
    "    def permute_choices(self, perm):\n",
    "        self.choices = [self.choices[i] for i in perm]\n",
    "        self.answer_idx = perm.index(self.answer_idx)\n",
    "\n",
    "class Exemplar(Question):\n",
    "\n",
    "    def get_natural_prompt(self):\n",
    "        prompt = super().get_natural_prompt()\n",
    "        answer_ltr = idx_to_ltr(self.answer_idx)\n",
    "        return f\"{prompt} {answer_ltr}\"\n",
    "\n",
    "    def get_brown_prompt(self):\n",
    "        prompt = super().get_brown_prompt()\n",
    "        return f\"{prompt} {self.get_answer_str()}\""
   ]
  },
  {
   "cell_type": "code",
   "execution_count": 5,
   "metadata": {},
   "outputs": [],
   "source": [
    "Passage = [\"Read the given passgage, question and select the most appropriate answer by indicating the associated letter.\\nFailure Mode and Effect Analysis (FMEA) or Failure Mode, Effects, and Criticality Analysis (FMECA) are conducted to identify anticipated faults, symptoms, and potential parameters that indicate the presence or occurrence of faults. \\n\\n The FMEA and FMECA audits provide information on the parameters to be measured for specific failure modes. These parameters typically indicate a fault condition through either an increase or decrease in a particular variable measured by sensors. \\n\\n You will receive a specific failure mode and a list of parameters being monitored via sensor variables.\"]\n",
    "\n",
    "PositiveQuestionsFailures = [\n",
    "    \"For {asset_class}, if a failure event {failure_mode} occurs, which sensors out of the choices are the most relevant sensor regarding the occurrence of the failure event?\",\n",
    "    \"When a {asset_class} has {failure_mode}, which sensors out of the choices should be the sensor to be monitored for this failure if I want to build an anomaly detection model?\",\n",
    "    \"Which sensors out of the choices can indicate the presence of {failure_mode} in asset {asset_class}?\",\n",
    "    \"In {asset_class}, when {failure_mode} occurs, which sensors from the choices are most critical in detecting the occurrence of the failure event?\",\n",
    "    \"Which sensors among the choices best correlate with the presence of {failure_mode} in asset {asset_class}?\",\n",
    "    \"For {asset_class}, if {failure_mode} happens, which sensors should be prioritized for monitoring this specific failure?\",\n",
    "    \"Which sensors out of the choices provide the strongest indication of {failure_mode} in {asset_class}?\",\n",
    "    \"When dealing with {failure_mode} in {asset_class}, which sensors among the choices have the highest relevance in detecting this issue?\",\n",
    " ]\n",
    "\n",
    "NegationQuestionsFailures = [\n",
    "    \"For {asset_class}, if a failure event {failure_mode} occurs, which sensors out of the choices are not relevant regarding the occurrence of the failure event?\",\n",
    "    \"When a {asset_class} has {failure_mode}, which sensors out of the choices should not be the sensor to be monitored for this failure if I want to build an anomaly detection model?\",\n",
    "    \"Which sensors out of the choices do not indicate the presence of {failure_mode} in asset {asset_class}?\",\n",
    "    \"Which sensors from the choices do not contribute significantly to detecting {failure_mode} in {asset_class}?\",\n",
    "    \"For {asset_class}, if {failure_mode} occurs, which sensors among the choices are least likely to be relevant in identifying this failure?\",\n",
    "    \"When considering {failure_mode} in {asset_class}, which sensors should be disregarded from the choices for monitoring this failure?\",\n",
    "    \"Which sensors out of the choices are not effective in indicating the presence of {failure_mode} in {asset_class}?\",\n",
    "    \"In {asset_class}, which sensors among the choices are least useful for detecting {failure_mode}?\",\n",
    "\n",
    "]"
   ]
  },
  {
   "cell_type": "code",
   "execution_count": 6,
   "metadata": {},
   "outputs": [],
   "source": [
    "PositiveQuestionsSensors = [\n",
    "    \"In the context of {asset_class}, which failure modes are most relevant when {sensor} shows abnormal readings?\",\n",
    "    \"What are the most relevant failure modes for {asset_class} if {sensor} exhibits abnormal readings?\",\n",
    "    \"Which failure modes should be considered for {asset_class} when abnormal readings are detected by {sensor}?\",\n",
    "    \"For {asset_class}, which failure modes are pertinent if {sensor} registers abnormal readings?\",\n",
    "    \"When {sensor} in {asset_class} displays abnormal readings, which failure modes are the most applicable?\",\n",
    "    \"If {sensor} in {asset_class} shows abnormal readings, which failure modes are most significant?\",\n",
    "    \"Which failure modes are most relevant for {asset_class} if there are abnormal readings from {sensor}?\",\n",
    "    \"For {asset_class}, what are the key failure modes when {sensor} has abnormal readings?\",\n",
    "    \"In {asset_class}, which failure modes are most important if {sensor} shows abnormal readings?\",\n",
    "    \"When {sensor} detects abnormal readings in {asset_class}, which failure modes are the most relevant?\"\n",
    "]\n",
    "\n",
    "NegationQuestionsSensors = [\n",
    "    \"In the context of {asset_class}, which failure events are not relevant when the sensor {sensor} shows an abnormal reading?\",\n",
    "    \"What are the irrelevant failure events for {asset_class} if the sensor {sensor} exhibits an abnormal reading?\",\n",
    "    \"Which failure events should be excluded for {asset_class} when an abnormal reading is detected by the sensor {sensor}?\",\n",
    "    \"For {asset_class}, which failure events are not pertinent if the sensor {sensor} registers an abnormal reading?\",\n",
    "    \"When the sensor {sensor} in {asset_class} displays an abnormal reading, which failure events are not applicable?\",\n",
    "    \"If the sensor {sensor} in {asset_class} shows an abnormal reading, which failure events are insignificant?\",\n",
    "    \"Which failure events are irrelevant for {asset_class} if there is an abnormal reading from the sensor {sensor}?\",\n",
    "    \"For {asset_class}, what are the non-relevant failure events when the sensor {sensor} has an abnormal reading?\",\n",
    "    \"In {asset_class}, which failure events are unimportant if the sensor {sensor} shows an abnormal reading?\",\n",
    "    \"When an abnormal reading is detected by the sensor {sensor} in {asset_class}, which failure events are not relevant?\"\n",
    "]\n"
   ]
  },
  {
   "cell_type": "code",
   "execution_count": 7,
   "metadata": {},
   "outputs": [],
   "source": [
    "with open('data/multi_answer_negatives.json', 'r') as f:\n",
    "    data_irrelevant = json.loads(f.read())\n",
    "with open('data/multi_answer.json', 'r') as f:\n",
    "    data_relevant = json.loads(f.read())"
   ]
  },
  {
   "cell_type": "markdown",
   "metadata": {},
   "source": [
    "# MCP2 2 answers"
   ]
  },
  {
   "cell_type": "markdown",
   "metadata": {},
   "source": [
    "## Prepare for relevant multiple choice multiple answers"
   ]
  },
  {
   "cell_type": "code",
   "execution_count": 8,
   "metadata": {},
   "outputs": [
    {
     "name": "stdout",
     "output_type": "stream",
     "text": [
      "{'input': 'Passage: Read the given passgage, question and select the most appropriate answer by indicating the associated letter.\\nFailure Mode and Effect Analysis (FMEA) or Failure Mode, Effects, and Criticality Analysis (FMECA) are conducted to identify anticipated faults, symptoms, and potential parameters that indicate the presence or occurrence of faults. \\n\\n The FMEA and FMECA audits provide information on the parameters to be measured for specific failure modes. These parameters typically indicate a fault condition through either an increase or decrease in a particular variable measured by sensors. \\n\\n You will receive a specific failure mode and a list of parameters being monitored via sensor variables.\\nQuestion: For electric motor, if a failure event rotor windings fault occurs, which sensors out of the choices are the most relevant sensor regarding the occurrence of the failure event?\\nA. power\\nB. current\\nC. voltage\\nD. oil debris\\nE. resistance\\n\\nAnswer:', 'output': 'power,current', 'relevancy': 'relevant_sensors_for_failure_mode', 'sampled_question_idx': 'PositiveQuestionsFailures_0', 'question_type': 'mcp2_positive_separate_answers', 'answer_letter': 'A,B'}\n"
     ]
    }
   ],
   "source": [
    "res_relevant = []\n",
    "for i, item in enumerate(data_relevant):\n",
    "    sampled_passage = random.choice(Passage)\n",
    "    if 'failure_mode' in item:\n",
    "        sampled_question = random.choice(PositiveQuestionsFailures)\n",
    "        sampled_question_idx = \"PositiveQuestionsFailures_\" + str(PositiveQuestionsFailures.index(sampled_question))\n",
    "        prepared_question = sampled_question.replace('{failure_mode}', item['failure_mode'])\n",
    "    else:\n",
    "        sampled_question = random.choice(PositiveQuestionsSensors)\n",
    "        sampled_question_idx = \"PositiveQuestionsSensors_\" + str(PositiveQuestionsSensors.index(sampled_question))\n",
    "        prepared_question = sampled_question.replace('{sensor}', item['sensor'])\n",
    "    prepared_question = prepared_question.replace('{asset_class}', item['asset_class'])\n",
    "    parts = [\n",
    "        QuestionPart(text=sampled_passage, tag=\"Passage\"),\n",
    "        QuestionPart(text=prepared_question, tag=\"Question\"),\n",
    "    ]\n",
    "    qa_pairs = np.array([(key, item['mc_targets'][key]) for key in item['mc_targets']])\n",
    "    all_answer_idxs = np.where(qa_pairs[:,1].astype(int)==1)[0]\n",
    "    incorrect_idxs = np.where(qa_pairs[:,1].astype(int)==0)[0]\n",
    "    if len(incorrect_idxs) <= 2 or len(all_answer_idxs) <= 1:\n",
    "        # no possible multiple choice to create\n",
    "        continue\n",
    "    # get all the positive pairs and sample negative\n",
    "    for i in range(len(all_answer_idxs)):\n",
    "        for j in range(i+1, len(all_answer_idxs)):\n",
    "            correct_answers = [qa_pairs[all_answer_idxs[i]], qa_pairs[all_answer_idxs[j]]]\n",
    "            n_choices = min(max_n_choices - 2, max(1, len(incorrect_idxs)))\n",
    "            sampled_incorrect_idxs = np.random.choice(incorrect_idxs, n_choices, replace=False)\n",
    "            incorrect_answers = [qa_pairs[idx] for idx in sampled_incorrect_idxs]\n",
    "            all_answers = np.stack(correct_answers + incorrect_answers)\n",
    "            # shuffle, so the answer is in a random position\n",
    "            np.random.shuffle(all_answers)\n",
    "            assert len(all_answers) == max_n_choices\n",
    "            answer_idxs = np.where(all_answers[:, 1].astype(int)==1)[0]\n",
    "            q = Question(parts=parts, choices=all_answers[:, 0], answer_idx=answer_idxs)\n",
    "            item_dict = {\n",
    "                'input': q.get_natural_prompt(), \n",
    "                'output': q.get_answer_str(), \n",
    "                'relevancy': item[\"question\"],\n",
    "                'sampled_question_idx': sampled_question_idx,\n",
    "                'question_type': 'mcp2_positive_separate_answers',\n",
    "                'answer_letter': ','.join([idx_to_ltr(answer_idx) for answer_idx in answer_idxs])\n",
    "            }\n",
    "            res_relevant.append(item_dict)\n",
    "print(res_relevant[0])"
   ]
  },
  {
   "cell_type": "markdown",
   "metadata": {},
   "source": [
    "## Prepare for irrelevant multiple choice multiple answers"
   ]
  },
  {
   "cell_type": "code",
   "execution_count": 9,
   "metadata": {},
   "outputs": [],
   "source": [
    "res_irrelevant = []\n",
    "for item in data_irrelevant:\n",
    "    sampled_passage = random.choice(Passage)\n",
    "    if 'failure_mode' in item:\n",
    "        sampled_question = random.choice(NegationQuestionsFailures)\n",
    "        sampled_question_idx = \"NegationQuestionsFailures_\" + str(NegationQuestionsFailures.index(sampled_question))\n",
    "        prepared_question = sampled_question.replace('{failure_mode}', item['failure_mode'])\n",
    "    else:\n",
    "        sampled_question = random.choice(NegationQuestionsSensors)\n",
    "        sampled_question_idx = \"NegationQuestionsSensors_\" + str(NegationQuestionsSensors.index(sampled_question))\n",
    "        prepared_question = sampled_question.replace('{sensor}', item['sensor'])\n",
    "    prepared_question = prepared_question.replace('{asset_class}', item['asset_class'])\n",
    "    parts = [\n",
    "        QuestionPart(text=sampled_passage, tag=\"Passage\"),\n",
    "        QuestionPart(text=prepared_question, tag=\"Question\"),\n",
    "    ]\n",
    "    qa_pairs = np.array([(key, item['mc_targets'][key]) for key in item['mc_targets']])\n",
    "    all_answer_idxs = np.where(qa_pairs[:,1].astype(int)==1)[0]\n",
    "    incorrect_idxs = np.where(qa_pairs[:,1].astype(int)==0)[0]\n",
    "    if len(incorrect_idxs) <= 2 or len(all_answer_idxs) <= 1:\n",
    "        # no possible multiple choice to create. We need at least 2 correct in the multiple choice\n",
    "        continue\n",
    "    # get all the positive pairs and sample negative\n",
    "    for i in range(len(all_answer_idxs)):\n",
    "        for j in range(i+1, len(all_answer_idxs)):\n",
    "            correct_answers = [qa_pairs[all_answer_idxs[i]], qa_pairs[all_answer_idxs[j]]]\n",
    "            n_choices = min(max_n_choices - 2, max(1, len(incorrect_idxs)))\n",
    "            sampled_incorrect_idxs = np.random.choice(incorrect_idxs, n_choices, replace=False)\n",
    "            incorrect_answers = [qa_pairs[idx] for idx in sampled_incorrect_idxs]\n",
    "            all_answers = np.stack(correct_answers + incorrect_answers)\n",
    "            # shuffle, so the answer is in a random position\n",
    "            np.random.shuffle(all_answers)\n",
    "            assert len(all_answers) == max_n_choices\n",
    "            answer_idxs = np.where(all_answers[:, 1].astype(int)==1)[0]\n",
    "            q = Question(parts=parts, choices=all_answers[:, 0], answer_idx=answer_idxs)\n",
    "            item_dict = {\n",
    "                'input': q.get_natural_prompt(), \n",
    "                'output': q.get_answer_str(), \n",
    "                'relevancy': item[\"question\"],\n",
    "                'sampled_question_idx': sampled_question_idx,\n",
    "                'question_type': 'mcp2_negative_separate_answers',\n",
    "                'answer_letter': ','.join([idx_to_ltr(answer_idx) for answer_idx in answer_idxs])\n",
    "            }\n",
    "            res_irrelevant.append(item_dict)"
   ]
  },
  {
   "cell_type": "code",
   "execution_count": 10,
   "metadata": {},
   "outputs": [
    {
     "name": "stdout",
     "output_type": "stream",
     "text": [
      "Passage: Read the given passgage, question and select the most appropriate answer by indicating the associated letter.\n",
      "Failure Mode and Effect Analysis (FMEA) or Failure Mode, Effects, and Criticality Analysis (FMECA) are conducted to identify anticipated faults, symptoms, and potential parameters that indicate the presence or occurrence of faults. \n",
      "\n",
      " The FMEA and FMECA audits provide information on the parameters to be measured for specific failure modes. These parameters typically indicate a fault condition through either an increase or decrease in a particular variable measured by sensors. \n",
      "\n",
      " You will receive a specific failure mode and a list of parameters being monitored via sensor variables.\n",
      "Question: For electric motor, if a failure event rotor windings fault occurs, which sensors out of the choices are the most relevant sensor regarding the occurrence of the failure event?\n",
      "A. power\n",
      "B. current\n",
      "C. voltage\n",
      "D. oil debris\n",
      "E. resistance\n",
      "\n",
      "Answer:\n",
      "power,current\n"
     ]
    }
   ],
   "source": [
    "print(res_relevant[0]['input'])\n",
    "print(res_relevant[0]['output'])"
   ]
  },
  {
   "cell_type": "code",
   "execution_count": 11,
   "metadata": {},
   "outputs": [
    {
     "name": "stdout",
     "output_type": "stream",
     "text": [
      "Passage: Read the given passgage, question and select the most appropriate answer by indicating the associated letter.\n",
      "Failure Mode and Effect Analysis (FMEA) or Failure Mode, Effects, and Criticality Analysis (FMECA) are conducted to identify anticipated faults, symptoms, and potential parameters that indicate the presence or occurrence of faults. \n",
      "\n",
      " The FMEA and FMECA audits provide information on the parameters to be measured for specific failure modes. These parameters typically indicate a fault condition through either an increase or decrease in a particular variable measured by sensors. \n",
      "\n",
      " You will receive a specific failure mode and a list of parameters being monitored via sensor variables.\n",
      "Question: Which sensors out of the choices do not indicate the presence of rotor windings fault in asset electric motor?\n",
      "A. cooling gas\n",
      "B. voltage\n",
      "C. vibration\n",
      "D. resistance\n",
      "E. power\n",
      "\n",
      "Answer:\n",
      "voltage,resistance\n"
     ]
    }
   ],
   "source": [
    "print(res_irrelevant[0]['input'])\n",
    "print(res_irrelevant[0]['output'])"
   ]
  },
  {
   "cell_type": "code",
   "execution_count": 12,
   "metadata": {},
   "outputs": [],
   "source": [
    "with open('data/prepared_mcp2_separate_answers.json', 'w') as f:\n",
    "    f.write(json.dumps(res_relevant + res_irrelevant))"
   ]
  },
  {
   "cell_type": "code",
   "execution_count": 13,
   "metadata": {},
   "outputs": [
    {
     "data": {
      "text/plain": [
       "(1694, 3935)"
      ]
     },
     "execution_count": 13,
     "metadata": {},
     "output_type": "execute_result"
    }
   ],
   "source": [
    "len(res_relevant), len(res_irrelevant)"
   ]
  },
  {
   "cell_type": "markdown",
   "metadata": {},
   "source": [
    "# MCP2 one answer"
   ]
  },
  {
   "cell_type": "markdown",
   "metadata": {},
   "source": [
    "## Prepare for relevant"
   ]
  },
  {
   "cell_type": "code",
   "execution_count": 8,
   "metadata": {
    "scrolled": true
   },
   "outputs": [],
   "source": [
    "res_relevant = []\n",
    "for i, item in enumerate(data_relevant):\n",
    "    sampled_passage = random.choice(Passage)\n",
    "    if 'failure_mode' in item:\n",
    "        sampled_question = random.choice(PositiveQuestionsFailures)\n",
    "        prepared_question = sampled_question.replace('{failure_mode}', item['failure_mode'])\n",
    "    else:\n",
    "        sampled_question = random.choice(PositiveQuestionsSensors)\n",
    "        prepared_question = sampled_question.replace('{sensor}', item['sensor'])\n",
    "    prepared_question = prepared_question.replace('{asset_class}', item['asset_class'])\n",
    "    parts = [\n",
    "        QuestionPart(text=sampled_passage, tag=\"Passage\"),\n",
    "        QuestionPart(text=prepared_question, tag=\"Question\"),\n",
    "    ]\n",
    "    qa_pairs = np.array([(key, item['mc_targets'][key]) for key in item['mc_targets']])\n",
    "    all_answer_idxs = np.where(qa_pairs[:,1].astype(int)==1)[0]\n",
    "    incorrect_idxs = np.where(qa_pairs[:,1].astype(int)==0)[0]\n",
    "    if len(incorrect_idxs) <= 2 or len(all_answer_idxs) <= 2:\n",
    "        # no possible multiple choice to create\n",
    "        continue\n",
    "    # get all the positive pairs and sample negative\n",
    "    for i in range(len(all_answer_idxs)):\n",
    "        for j in range(i+1, len(all_answer_idxs)):\n",
    "            correct_answer = np.array([[qa_pairs[all_answer_idxs[i]][0] + \", \" + qa_pairs[all_answer_idxs[j]][0], '1']])\n",
    "            n_choices = min((max_n_choices-1)*2, len(incorrect_idxs))\n",
    "            if n_choices%2==1:\n",
    "                n_choices -=1\n",
    "            sampled_incorrect_idxs = np.random.choice(incorrect_idxs, n_choices, replace=False)\n",
    "            sampled_incorrect_idxs = np.expand_dims(sampled_incorrect_idxs, 0).reshape(-1, 2)\n",
    "            sampled_incorrect_idxs = sampled_incorrect_idxs[:max_n_choices-1, :]\n",
    "            # print(sampled_incorrect_idxs)\n",
    "            sampled_incorrect_idxs_2 = np.random.choice(incorrect_idxs, n_choices, replace=False)\n",
    "            sampled_incorrect_idxs_2 = np.expand_dims(sampled_incorrect_idxs_2, 0).reshape(-1, 2)\n",
    "            sampled_incorrect_idxs_2 = sampled_incorrect_idxs_2[:max_n_choices-1, :]\n",
    "            # print(sampled_incorrect_idxs_2)\n",
    "            incorrect_answers = np.stack([[qa_pairs[idx[0]][0] + \", \" + qa_pairs[idx[1]][0], '0'] for idx in np.concatenate((sampled_incorrect_idxs,sampled_incorrect_idxs_2), axis=0)])\n",
    "            # print(incorrect_answers)\n",
    "            if len(incorrect_answers) < max_n_choices-1:\n",
    "                continue\n",
    "            else:\n",
    "                incorrect_answers = incorrect_answers[:max_n_choices-1]\n",
    "            all_answers = np.concatenate([correct_answer, incorrect_answers])\n",
    "            assert len(all_answers) == max_n_choices\n",
    "            # shuffle, so the answer is in a random position\n",
    "            np.random.shuffle(all_answers)\n",
    "            answer_idxs = np.where(all_answers[:, 1].astype(int)==1)[0]\n",
    "            q = Question(parts=parts, choices=all_answers[:, 0], answer_idx=answer_idxs)\n",
    "            item_dict = {\n",
    "                'input': q.get_natural_prompt(), \n",
    "                'output': q.get_answer_str(), \n",
    "                'relevancy': item[\"question\"],\n",
    "                'question_type': 'mcp2_positive_single_answer',\n",
    "                'answer_letter': ','.join([idx_to_ltr(answer_idx) for answer_idx in answer_idxs])\n",
    "            }\n",
    "            res_relevant.append(item_dict)"
   ]
  },
  {
   "cell_type": "markdown",
   "metadata": {},
   "source": [
    "## Prepare for irrelevant multiple choice multiple answers"
   ]
  },
  {
   "cell_type": "code",
   "execution_count": 9,
   "metadata": {},
   "outputs": [],
   "source": [
    "res_irrelevant = []\n",
    "for item in data_irrelevant:\n",
    "    #todo: remove\n",
    "    data_irrelevant[0]['mc_targets']['current']=1\n",
    "    sampled_passage = random.choice(Passage)\n",
    "    if 'failure_mode' in item:\n",
    "        sampled_question = random.choice(NegationQuestionsFailures)\n",
    "        prepared_question = sampled_question.replace('{failure_mode}', item['failure_mode'])\n",
    "    else:\n",
    "        sampled_question = random.choice(NegationQuestionsSensors)\n",
    "        prepared_question = sampled_question.replace('{sensor}', item['sensor'])\n",
    "    prepared_question = prepared_question.replace('{asset_class}', item['asset_class'])\n",
    "    parts = [\n",
    "        QuestionPart(text=sampled_passage, tag=\"Passage\"),\n",
    "        QuestionPart(text=prepared_question, tag=\"Question\"),\n",
    "    ]\n",
    "    qa_pairs = np.array([(key, item['mc_targets'][key]) for key in item['mc_targets']])\n",
    "    all_answer_idxs = np.where(qa_pairs[:,1].astype(int)==1)[0]\n",
    "    incorrect_idxs = np.where(qa_pairs[:,1].astype(int)==0)[0]\n",
    "    if len(incorrect_idxs) <= 1 or len(all_answer_idxs) <= 1:\n",
    "        # no possible multiple choice to create\n",
    "        continue\n",
    "    # get all the positive pairs and sample negative\n",
    "    for i in range(len(all_answer_idxs)):\n",
    "        for j in range(i+1, len(all_answer_idxs)):\n",
    "            correct_answer = np.array([[qa_pairs[all_answer_idxs[i]][0] + \", \" + qa_pairs[all_answer_idxs[j]][0], '1']])\n",
    "            # sampled_incorrect_idxs = np.stack([np.random.choice(incorrect_idxs, 2, replace=False) for _ in range(max_n_choices-1)])\n",
    "            # incorrect_answers = np.stack([[qa_pairs[idx[0]][0] + \", \" + qa_pairs[idx[1]][0], '0'] for idx in sampled_incorrect_idxs])\n",
    "            correct_answer = np.array([[qa_pairs[all_answer_idxs[i]][0] + \", \" + qa_pairs[all_answer_idxs[j]][0], '1']])\n",
    "            n_choices = min((max_n_choices-1)*2, len(incorrect_idxs))\n",
    "            if n_choices%2==1:\n",
    "                n_choices -= 1\n",
    "            sampled_incorrect_idxs = np.random.choice(incorrect_idxs, n_choices, replace=False)\n",
    "            sampled_incorrect_idxs = np.expand_dims(sampled_incorrect_idxs, 0).reshape(-1, 2)\n",
    "            sampled_incorrect_idxs = sampled_incorrect_idxs[:max_n_choices-1, :]\n",
    "            sampled_incorrect_idxs_2 = np.random.choice(incorrect_idxs, n_choices, replace=False)\n",
    "            sampled_incorrect_idxs_2 = np.expand_dims(sampled_incorrect_idxs_2, 0).reshape(-1, 2)\n",
    "            sampled_incorrect_idxs_2 = sampled_incorrect_idxs_2[:max_n_choices-1, :]\n",
    "            # print(sampled_incorrect_idxs_2)\n",
    "            incorrect_answers = np.stack([[qa_pairs[idx[0]][0] + \", \" + qa_pairs[idx[1]][0], '0'] for idx in np.concatenate((sampled_incorrect_idxs,sampled_incorrect_idxs_2), axis=0)])\n",
    "            # print(incorrect_answers)\n",
    "            if len(incorrect_answers) < max_n_choices-1:\n",
    "                continue\n",
    "            else:\n",
    "                incorrect_answers = incorrect_answers[:max_n_choices-1]\n",
    "            all_answers = np.concatenate([correct_answer, incorrect_answers])\n",
    "            assert len(all_answers) == max_n_choices\n",
    "            # shuffle, so the answer is in a random position\n",
    "            np.random.shuffle(all_answers)\n",
    "            answer_idxs = np.where(all_answers[:, 1].astype(int)==1)[0]\n",
    "            q = Question(parts=parts, choices=all_answers[:, 0], answer_idx=answer_idxs)\n",
    "            item_dict = {\n",
    "                'input': q.get_natural_prompt(), \n",
    "                'output': q.get_answer_str(), \n",
    "                'relevancy': item[\"question\"],\n",
    "                'question_type': 'mcp2_negative_single_answer',\n",
    "                'answer_letter': ','.join([idx_to_ltr(answer_idx) for answer_idx in answer_idxs])\n",
    "            }\n",
    "            res_irrelevant.append(item_dict)"
   ]
  },
  {
   "cell_type": "code",
   "execution_count": 10,
   "metadata": {},
   "outputs": [
    {
     "name": "stdout",
     "output_type": "stream",
     "text": [
      "Passage: Read the given passgage, question and select the most appropriate answer by indicating the associated letter.\n",
      "Failure Mode and Effect Analysis (FMEA) or Failure Mode, Effects, and Criticality Analysis (FMECA) are conducted to identify anticipated faults, symptoms, and potential parameters that indicate the presence or occurrence of faults. \n",
      "\n",
      " The FMEA and FMECA audits provide information on the parameters to be measured for specific failure modes. These parameters typically indicate a fault condition through either an increase or decrease in a particular variable measured by sensors. \n",
      "\n",
      " You will receive a specific failure mode and a list of parameters being monitored via sensor variables.\n",
      "Question: For electric motor, if a failure event rotor windings fault occurs, which sensors out of the choices are the most relevant sensor regarding the occurrence of the failure event?\n",
      "A. coast down time, voltage\n",
      "B. partial discharge, oil debris\n",
      "C. current, power\n",
      "D. coast down time, voltage\n",
      "E. partial discharge, oil debris\n",
      "\n",
      "Answer:\n",
      "current, power\n"
     ]
    }
   ],
   "source": [
    "print(res_relevant[0]['input'])\n",
    "print(res_relevant[0]['output'])"
   ]
  },
  {
   "cell_type": "code",
   "execution_count": 11,
   "metadata": {},
   "outputs": [
    {
     "name": "stdout",
     "output_type": "stream",
     "text": [
      "Passage: Read the given passgage, question and select the most appropriate answer by indicating the associated letter.\n",
      "Failure Mode and Effect Analysis (FMEA) or Failure Mode, Effects, and Criticality Analysis (FMECA) are conducted to identify anticipated faults, symptoms, and potential parameters that indicate the presence or occurrence of faults. \n",
      "\n",
      " The FMEA and FMECA audits provide information on the parameters to be measured for specific failure modes. These parameters typically indicate a fault condition through either an increase or decrease in a particular variable measured by sensors. \n",
      "\n",
      " You will receive a specific failure mode and a list of parameters being monitored via sensor variables.\n",
      "Question: Which sensors out of the choices do not indicate the presence of rotor windings fault in asset electric motor?\n",
      "A. cooling gas, speed\n",
      "B. voltage, resistance\n",
      "C. power, axial flux\n",
      "D. torque, power\n",
      "E. temperature, axial flux\n",
      "\n",
      "Answer:\n",
      "voltage, resistance\n"
     ]
    }
   ],
   "source": [
    "print(res_irrelevant[0]['input'])\n",
    "print(res_irrelevant[0]['output'])"
   ]
  },
  {
   "cell_type": "code",
   "execution_count": 12,
   "metadata": {},
   "outputs": [],
   "source": [
    "with open('data/prepared_mcp2_single_answer.json', 'w') as f:\n",
    "    f.write(json.dumps(res_relevant + res_irrelevant))"
   ]
  },
  {
   "cell_type": "code",
   "execution_count": 13,
   "metadata": {},
   "outputs": [
    {
     "data": {
      "text/plain": [
       "(1501, 2608)"
      ]
     },
     "execution_count": 13,
     "metadata": {},
     "output_type": "execute_result"
    }
   ],
   "source": [
    "len(res_relevant), len(res_irrelevant)"
   ]
  },
  {
   "cell_type": "code",
   "execution_count": null,
   "metadata": {},
   "outputs": [],
   "source": []
  }
 ],
 "metadata": {
  "kernelspec": {
   "display_name": "Python 3 (ipykernel)",
   "language": "python",
   "name": "python3"
  },
  "language_info": {
   "codemirror_mode": {
    "name": "ipython",
    "version": 3
   },
   "file_extension": ".py",
   "mimetype": "text/x-python",
   "name": "python",
   "nbconvert_exporter": "python",
   "pygments_lexer": "ipython3",
   "version": "3.11.9"
  }
 },
 "nbformat": 4,
 "nbformat_minor": 4
}
