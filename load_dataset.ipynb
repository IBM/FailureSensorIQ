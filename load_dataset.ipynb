{
 "cells": [
  {
   "cell_type": "code",
   "execution_count": 1,
   "id": "03111455-7c32-4901-a8c7-c5414cf02d5e",
   "metadata": {},
   "outputs": [],
   "source": [
    "from datasets import load_dataset"
   ]
  },
  {
   "cell_type": "markdown",
   "id": "75e9d886-6963-40d3-8e1a-6355f4723650",
   "metadata": {},
   "source": [
    "# Loading the original dataset"
   ]
  },
  {
   "cell_type": "code",
   "execution_count": 2,
   "id": "8d0636ed-b0f6-44fd-a00d-60863b118829",
   "metadata": {
    "scrolled": true
   },
   "outputs": [
    {
     "data": {
      "text/plain": [
       "DatasetDict({\n",
       "    train: Dataset({\n",
       "        features: ['subject', 'id', 'question', 'options', 'option_ids', 'question_first', 'correct', 'text_type', 'asset_name', 'relevancy', 'question_type'],\n",
       "        num_rows: 2667\n",
       "    })\n",
       "})"
      ]
     },
     "execution_count": 2,
     "metadata": {},
     "output_type": "execute_result"
    }
   ],
   "source": [
    "load_dataset('cc4718/FailureSensorIQ', data_files='all.jsonl')"
   ]
  },
  {
   "cell_type": "markdown",
   "id": "9fc52606-e383-419a-bdf2-7c2b8a7d3e6f",
   "metadata": {},
   "source": [
    "# Loading all files"
   ]
  },
  {
   "cell_type": "code",
   "execution_count": 3,
   "id": "76c9af83-c44b-4427-a5d7-b93894e9816f",
   "metadata": {},
   "outputs": [
    {
     "data": {
      "application/vnd.jupyter.widget-view+json": {
       "model_id": "ce6c7fd5617c428a8faf01c57fcb0891",
       "version_major": 2,
       "version_minor": 0
      },
      "text/plain": [
       "Generating train split: 0 examples [00:00, ? examples/s]"
      ]
     },
     "metadata": {},
     "output_type": "display_data"
    },
    {
     "data": {
      "application/vnd.jupyter.widget-view+json": {
       "model_id": "76e0c7d4f9bd4b27b14799c30fd68b26",
       "version_major": 2,
       "version_minor": 0
      },
      "text/plain": [
       "Generating train split: 0 examples [00:00, ? examples/s]"
      ]
     },
     "metadata": {},
     "output_type": "display_data"
    },
    {
     "data": {
      "application/vnd.jupyter.widget-view+json": {
       "model_id": "9cbadfe19b4e4d028a4436caf3f87e0e",
       "version_major": 2,
       "version_minor": 0
      },
      "text/plain": [
       "Generating train split: 0 examples [00:00, ? examples/s]"
      ]
     },
     "metadata": {},
     "output_type": "display_data"
    },
    {
     "data": {
      "application/vnd.jupyter.widget-view+json": {
       "model_id": "37f385b7d16b4a63829c4f7b420b6ff7",
       "version_major": 2,
       "version_minor": 0
      },
      "text/plain": [
       "Generating train split: 0 examples [00:00, ? examples/s]"
      ]
     },
     "metadata": {},
     "output_type": "display_data"
    }
   ],
   "source": [
    "'''\n",
    "original: original dataset\n",
    "all_10_options: dataset with 10 options per question\n",
    "all_10_options_perturbed_simple: dataset with perturbed option characters\n",
    "all_10_options_perturbed_complex: dataset with rephrased questions\n",
    "sample_50_questions: Extra 50 questions for quick experiments\n",
    "'''\n",
    "data_files = {\n",
    "    \"original\": \"all.jsonl\",\n",
    "    \"all_10_options\": \"all_10_options.jsonl\",\n",
    "    \"all_10_options_perturbed_simple\": \"all_10_options_perturbed_simple.jsonl\",\n",
    "    \"all_10_options_perturbed_complex\": \"all_10_options_perturbed_complex.jsonl\",\n",
    "    \"sample_50_questions\": \"sample_50_questions.jsonl\"\n",
    "}\n",
    "datasets = {}\n",
    "for k, v in data_files.items():\n",
    "    datasets[k] = load_dataset('cc4718/FailureSensorIQ', data_files=v)"
   ]
  },
  {
   "cell_type": "code",
   "execution_count": 4,
   "id": "43efb162-0bb7-4a11-bd82-91a0d291c2fb",
   "metadata": {},
   "outputs": [
    {
     "data": {
      "text/plain": [
       "DatasetDict({\n",
       "    train: Dataset({\n",
       "        features: ['subject', 'id', 'question', 'options', 'option_ids', 'question_first', 'correct', 'text_type', 'asset_name', 'relevancy', 'question_type'],\n",
       "        num_rows: 2667\n",
       "    })\n",
       "})"
      ]
     },
     "execution_count": 4,
     "metadata": {},
     "output_type": "execute_result"
    }
   ],
   "source": [
    "datasets['original']"
   ]
  },
  {
   "cell_type": "code",
   "execution_count": null,
   "id": "23ac7272-9591-4356-8b1b-78fe7f0c291b",
   "metadata": {},
   "outputs": [],
   "source": []
  }
 ],
 "metadata": {
  "kernelspec": {
   "display_name": "Python 3 (ipykernel)",
   "language": "python",
   "name": "python3"
  },
  "language_info": {
   "codemirror_mode": {
    "name": "ipython",
    "version": 3
   },
   "file_extension": ".py",
   "mimetype": "text/x-python",
   "name": "python",
   "nbconvert_exporter": "python",
   "pygments_lexer": "ipython3",
   "version": "3.10.4"
  }
 },
 "nbformat": 4,
 "nbformat_minor": 5
}
